{
 "cells": [
  {
   "cell_type": "markdown",
   "id": "039f62cc",
   "metadata": {},
   "source": [
    "## Import tools"
   ]
  },
  {
   "cell_type": "code",
   "execution_count": 14,
   "id": "91fa773c",
   "metadata": {},
   "outputs": [],
   "source": [
    "import requests\n",
    "from bs4 import BeautifulSoup as bs\n",
    "import re\n",
    "import time, random\n",
    "import pandas as pd"
   ]
  },
  {
   "cell_type": "markdown",
   "id": "07f8409c",
   "metadata": {},
   "source": [
    "## Write function to get list of franchise titles from a single franchise page"
   ]
  },
  {
   "cell_type": "code",
   "execution_count": 18,
   "id": "c935b5bb",
   "metadata": {},
   "outputs": [],
   "source": [
    "def get_franchise_names(soup):\n",
    "    ## loop through and collect all franchise titles on the page\n",
    "    master_list = []\n",
    "    for row in soup.find_all('tr'):\n",
    "        for thing in row:\n",
    "            if thing.find(href = re.compile('\\/release\\/')):\n",
    "                master_list.append(thing.text)\n",
    "            else:\n",
    "                pass\n",
    "    return(master_list)"
   ]
  },
  {
   "cell_type": "markdown",
   "id": "c22dbd57",
   "metadata": {},
   "source": [
    "## Write function to get links to all franchise pages"
   ]
  },
  {
   "cell_type": "code",
   "execution_count": 6,
   "id": "41a0d944",
   "metadata": {},
   "outputs": [],
   "source": [
    "def get_franchise_links(url_fr):\n",
    "    ## GET LINKS FOR FRANCHISES\n",
    "    response_fr = requests.get(url_fr)\n",
    "    response_fr.status_code\n",
    "    ## put into BeautifulSoup\n",
    "    page_html_fr = response_fr.text\n",
    "    soup_fr = bs(page_html_fr)\n",
    "\n",
    "## Get links for all franchises\n",
    "## Had a lot of trouble using BeautifulSoup to access what I wanted on\n",
    "## this page for some reason. Ended up with a lot of loops and lists as\n",
    "## a workaround.\n",
    "\n",
    "    raw = []\n",
    "    for row in soup_fr.find_all('tr'):\n",
    "        for thing in row:\n",
    "            if thing.find(href = re.compile('\\/franchise\\/')):\n",
    "                raw.append(thing)\n",
    "            else:\n",
    "                pass\n",
    "\n",
    "    new = []\n",
    "    for item in raw:\n",
    "        new.append(str(item))\n",
    "\n",
    "    new_new = []\n",
    "    for item in new:\n",
    "        m = re.search('href=\\\".*\\\"', item)\n",
    "        new_new.append(m[0])\n",
    "\n",
    "    linked = []\n",
    "    linked_final = []\n",
    "    for item in new_new:\n",
    "        linked.append(re.sub('href=\\\"', 'https://www.boxofficemojo.com', item))\n",
    "    for item in linked:\n",
    "        linked_final.append(re.sub('\\\"', '', item))\n",
    "    return(linked_final)"
   ]
  },
  {
   "cell_type": "markdown",
   "id": "78a66d38",
   "metadata": {},
   "source": [
    "## Write function to use find many franchise names"
   ]
  },
  {
   "cell_type": "code",
   "execution_count": 16,
   "id": "53029f93",
   "metadata": {},
   "outputs": [],
   "source": [
    "def get_many_franchises(url_list):\n",
    "    all_franchise_data = []\n",
    "    for item in url_list:\n",
    "        time.sleep(2)\n",
    "        response = requests.get(item)\n",
    "        page_html = response.text\n",
    "        soup = bs(page_html)\n",
    "        all_franchise_data.append(get_franchise_names(soup))\n",
    "    return all_franchise_data"
   ]
  },
  {
   "cell_type": "markdown",
   "id": "79a4944a",
   "metadata": {},
   "source": [
    "## Get links to all franchise pages from franchise index"
   ]
  },
  {
   "cell_type": "code",
   "execution_count": 8,
   "id": "f8e25136",
   "metadata": {},
   "outputs": [
    {
     "name": "stdout",
     "output_type": "stream",
     "text": [
      "292\n"
     ]
    }
   ],
   "source": [
    "franchise_links = get_franchise_links('https://www.boxofficemojo.com/franchise/?ref_=bo_lnav_hm_shrt')\n",
    "print(len(franchise_links))"
   ]
  },
  {
   "cell_type": "code",
   "execution_count": 11,
   "id": "32b4f57d",
   "metadata": {},
   "outputs": [
    {
     "name": "stdout",
     "output_type": "stream",
     "text": [
      "['https://www.boxofficemojo.com/franchise/fr541495045/?ref_=bo_frs_table_1', 'https://www.boxofficemojo.com/franchise/fr3125251845/?ref_=bo_frs_table_2']\n"
     ]
    }
   ],
   "source": [
    "print(franchise_links[0:2])\n",
    "test = franchise_links[0:2]"
   ]
  },
  {
   "cell_type": "code",
   "execution_count": 19,
   "id": "38e693e2",
   "metadata": {},
   "outputs": [
    {
     "name": "stdout",
     "output_type": "stream",
     "text": [
      "[['Avengers: Endgame', 'Spider-Man: No Way Home', 'Black Panther', 'Avengers: Infinity War', 'The Avengers', 'Avengers: Age of Ultron', 'Captain Marvel', 'Iron Man 3', 'Captain America: Civil War', 'Spider-Man: Far from Home', 'Guardians of the Galaxy Vol. 2', 'Spider-Man: Homecoming', 'Guardians of the Galaxy', 'Iron Man', 'Thor: Ragnarok', 'Iron Man 2', 'Captain America: The Winter Soldier', 'Doctor Strange', 'Shang-Chi and the Legend of the Ten Rings', 'Ant-Man and the Wasp', 'Thor: The Dark World', 'Black Widow', 'Thor', 'Ant-Man', 'Captain America: The First Avenger', 'Eternals', 'The Incredible Hulk', 'Guardians of the Galaxy2020 Re-release', 'Iron Man2020 Re-release', 'Black Panther2020 Re-release', 'Black WidowStreaming - PVOD', 'Doctor Strange in the Multiverse of Madness', 'Thor: Love and Thunder', 'Ant-Man and the Wasp: Quantumania', 'Guardians of the Galaxy Vol. 3', 'Black Panther: Wakanda Forever', 'The Marvels'], ['Star Wars: Episode VII - The Force Awakens', 'Star Wars: Episode VIII - The Last Jedi', 'Rogue One: A Star Wars Story', 'Star Wars: Episode IX - The Rise of Skywalker', 'Star Wars: Episode I - The Phantom Menace', 'Star Wars: Episode III - Revenge of the Sith', 'Star Wars: Episode IV - A New Hope', 'Star Wars: Episode II - Attack of the Clones', 'Star Wars: Episode VI - Return of the Jedi', 'Solo: A Star Wars Story', 'Star Wars: Episode V - The Empire Strikes Back', 'Star Wars: Episode IV - A New Hope1997 Special Edition', 'Star Wars: Episode V - The Empire Strikes Back1997 Special Edition', 'Star Wars: Episode VI - Return of the Jedi1997 Special Edition', 'Star Wars: Episode I - The Phantom Menace2012 3D Release', 'Star Wars: The Clone Wars', 'Star Wars: Episode IV - A New Hope1982 Re-release', 'Star Wars: Episode V - The Empire Strikes Back1982 Re-release', 'Star Wars: Episode VI - Return of the Jedi1985 Re-release', 'Star Wars: Episode II - Attack of the Clones2002 IMAX Release', 'Star Wars: Episode V - The Empire Strikes Back2020 Re-release', 'Untitled Taika Waititi Star Wars Film', 'Untitled Star Wars Film']]\n"
     ]
    }
   ],
   "source": [
    "data_test = get_many_franchises(test)\n",
    "print(data_test)"
   ]
  },
  {
   "cell_type": "code",
   "execution_count": 20,
   "id": "b4504373",
   "metadata": {},
   "outputs": [
    {
     "name": "stdout",
     "output_type": "stream",
     "text": [
      "292\n"
     ]
    }
   ],
   "source": [
    "franchise_films = get_many_franchises(franchise_links)\n",
    "print(len(franchise_films))"
   ]
  },
  {
   "cell_type": "code",
   "execution_count": 22,
   "id": "9628de4e",
   "metadata": {},
   "outputs": [
    {
     "name": "stdout",
     "output_type": "stream",
     "text": [
      "['Evangelion: 3.0 You Can (Not) Redo', 'Evangelion: 2.0 You Can (Not) Advance', 'Evangelion: 1.0 You Are (Not) Alone']\n"
     ]
    }
   ],
   "source": [
    "print(franchise_films[-2])"
   ]
  },
  {
   "cell_type": "code",
   "execution_count": 32,
   "id": "48da6d4a",
   "metadata": {},
   "outputs": [
    {
     "name": "stdout",
     "output_type": "stream",
     "text": [
      "          Franchise Titles\n",
      "0        Avengers: Endgame\n",
      "1  Spider-Man: No Way Home\n",
      "2            Black Panther\n",
      "3   Avengers: Infinity War\n",
      "4             The Avengers\n"
     ]
    }
   ],
   "source": [
    "franchise_films_un_nested = []\n",
    "for item in franchise_films:\n",
    "    for title in item:\n",
    "        franchise_films_un_nested.append(title)\n",
    "\n",
    "## See if it will go into a dataframe\n",
    "franchise_films_df = pd.DataFrame(franchise_films_un_nested)\n",
    "franchise_films_df = franchise_films_df.rename(columns = {0:\"Franchise Titles\"})\n",
    "print(franchise_films_df.head())\n",
    "\n",
    "## Pickle the data!\n",
    "franchise_films_df.to_pickle('list_of_franchise_film_titles')"
   ]
  },
  {
   "cell_type": "code",
   "execution_count": null,
   "id": "6566443e",
   "metadata": {},
   "outputs": [],
   "source": []
  }
 ],
 "metadata": {
  "kernelspec": {
   "display_name": "Python [conda env:metis] *",
   "language": "python",
   "name": "conda-env-metis-py"
  },
  "language_info": {
   "codemirror_mode": {
    "name": "ipython",
    "version": 3
   },
   "file_extension": ".py",
   "mimetype": "text/x-python",
   "name": "python",
   "nbconvert_exporter": "python",
   "pygments_lexer": "ipython3",
   "version": "3.9.9"
  }
 },
 "nbformat": 4,
 "nbformat_minor": 5
}
